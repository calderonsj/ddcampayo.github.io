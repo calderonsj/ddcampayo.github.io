{
 "cells": [
  {
   "cell_type": "markdown",
   "metadata": {},
   "source": [
    "# Metodos numéricos en Mecánica de Fluidos\n",
    "\n",
    "## Theory I\n"
   ]
  },
  {
   "cell_type": "markdown",
   "metadata": {},
   "source": [
    "1-D Linear Convection equation is the simplest, most basic model that can be used to learn something about CFD.\n",
    "\n",
    "$$\\frac{\\partial \\phi}{\\partial t} + u \\frac{\\partial  \\phi}{\\partial x} = 0$$\n"
   ]
  },
  {
   "cell_type": "markdown",
   "metadata": {
    "deletable": true,
    "editable": true
   },
   "source": [
    "From the definition of a derivative (and simply removing the limit), we know that:\n",
    "\n",
    "\n",
    "$$\\frac{\\partial  \\phi}{\\partial x}\\approx \\frac{ \\phi(x+\\Delta x)- \\phi(x)}{\\Delta x}$$\n"
   ]
  },
  {
   "cell_type": "markdown",
   "metadata": {},
   "source": [
    "Our discrete equation, then, is:\n",
    "\n",
    "$$\\frac{ \\phi_i^{n+1}- \\phi_i^n}{\\Delta t} + u \\frac{ \\phi_i^n -  \\phi_{i-1}^n}{\\Delta x} = 0 $$\n",
    "\n",
    "Where $n$ and $n+1$ are two consecutive steps in time, while $i-1$ and $i$ are two neighboring points of the discretized $x$ coordinate.\n",
    "\n",
    "If there are given initial conditions, then the only unknown in this discretization is $ \\phi_i^{n+1}$. We can solve for our unknown to get an equation that allows us to advance in time, as follows:\n",
    "$$ \\phi_i^{n+1} =  \\phi_i^n - u \\frac{\\Delta t}{\\Delta x}( \\phi_i^n- \\phi_{i-1}^n)$$"
   ]
  },
  {
   "cell_type": "markdown",
   "metadata": {
    "deletable": true,
    "editable": true
   },
   "source": [
    "Notice the only combination that appears is\n",
    "$$ \\mathrm{Co} := u \\frac{\\Delta t}{\\Delta x}$$"
   ]
  },
  {
   "cell_type": "markdown",
   "metadata": {},
   "source": [
    " [12 Steps to Navier-Stokes]( http://lorenabarba.com/blog/cfd-python-12-steps-to-navier-stokes/)"
   ]
  }
 ],
 "metadata": {
  "kernelspec": {
   "display_name": "Python 2",
   "language": "python",
   "name": "python2"
  },
  "language_info": {
   "codemirror_mode": {
    "name": "ipython",
    "version": 2
   },
   "file_extension": ".py",
   "mimetype": "text/x-python",
   "name": "python",
   "nbconvert_exporter": "python",
   "pygments_lexer": "ipython2",
   "version": "2.7.12"
  }
 },
 "nbformat": 4,
 "nbformat_minor": 2
}
